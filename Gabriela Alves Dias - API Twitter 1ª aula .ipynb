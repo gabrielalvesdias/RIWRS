{
 "cells": [
  {
   "cell_type": "code",
   "execution_count": 48,
   "metadata": {},
   "outputs": [],
   "source": [
    "from tweepy import OAuthHandler\n",
    "from tweepy import Stream\n",
    "from tweepy.streaming import StreamListener\n",
    "import time\n",
    "%matplotlib inline"
   ]
  },
  {
   "cell_type": "code",
   "execution_count": 49,
   "metadata": {},
   "outputs": [],
   "source": [
    "# setup security \n",
    "access_token = '1006599768104144896-08Q8MuqehWAXLYxH4qfQPd3ihda2WW'\n",
    "access_token_secret = 'hZGfKdUzY1t2jUrA5t2egNhoKTPCz457orKvFVVDD117G'\n",
    "consumer_key = 'mVDo4ha0iWDHYXdalHH6g8tx7'\n",
    "consumer_secret = 'A6vRmL8VmLwpncQD2at0PHkzBswjT7m70BWmpv0rMkxBbvIoan'\n",
    "\n",
    "# setup file store\n",
    "file = 'C:/Users/aluno/Documents/gabrielaapi.json'"
   ]
  },
  {
   "cell_type": "code",
   "execution_count": 50,
   "metadata": {},
   "outputs": [],
   "source": [
    "class MyListener(StreamListener):\n",
    "        \n",
    "    \n",
    "    def __init__(self, file):\n",
    "        global the_file\n",
    "        self.the_file = open(file, 'w')\n",
    "        \n",
    "    def on_data(self, data):\n",
    "        self.the_file.write(data)\n",
    "        return True\n",
    "    \n",
    "    def on_error(self, status):\n",
    "        print(status)\n",
    "        \n",
    "    def file_close(self):\n",
    "        self.the_file.close()   "
   ]
  },
  {
   "cell_type": "code",
   "execution_count": 51,
   "metadata": {},
   "outputs": [
    {
     "name": "stdout",
     "output_type": "stream",
     "text": [
      "**Finish**\n"
     ]
    }
   ],
   "source": [
    "listener = MyListener(file)\n",
    "oauth = OAuthHandler(consumer_key, consumer_secret)\n",
    "oauth.set_access_token(access_token, access_token_secret)\n",
    "\n",
    "max_time = 30 # in seconds\n",
    "start_time = time.time() \n",
    "\n",
    "## collecting...\n",
    "stream = Stream(oauth, listener)\n",
    "#stream.filter(track=['copa', 'neymar', 'messi'],async=True,languages=['pt'])\n",
    "stream.filter(track=['neymar', 'ronaldo', 'messi', 'sallah', 'hazard'],async=True)\n",
    "\n",
    "elapsed_time = (time.time() - start_time)\n",
    "while  elapsed_time < max_time:\n",
    "    elapsed_time = (time.time() - start_time)\n",
    "\n",
    "    \n",
    "print('**Finish**')\n",
    "stream.disconnect()\n",
    "listener.file_close()"
   ]
  },
  {
   "cell_type": "code",
   "execution_count": 52,
   "metadata": {},
   "outputs": [],
   "source": [
    "import json\n",
    "import pandas as pd\n",
    "import matplotlib.pyplot as plt\n"
   ]
  },
  {
   "cell_type": "code",
   "execution_count": 53,
   "metadata": {},
   "outputs": [],
   "source": [
    "tweets_data = []\n",
    "tweets_file = open(file, \"r\")\n",
    "for line in tweets_file:\n",
    "    try:\n",
    "        tweet = json.loads(line)\n",
    "        tweets_data.append(tweet)\n",
    "    except:\n",
    "        continue"
   ]
  },
  {
   "cell_type": "code",
   "execution_count": 54,
   "metadata": {},
   "outputs": [
    {
     "name": "stdout",
     "output_type": "stream",
     "text": [
      "  lang                                               text country\n",
      "0  und  RT @EduAguirre7: 😂😂😂😂😭😭😭😭😭😂😂😂😂😂😂😂😂😂😂😂😂😂😂😂 http...    None\n",
      "1   pt  RT @brunomessigoku: Messi foi o jogador que ma...    None\n",
      "2   et  Leo Messi flet pas penalltisë së humbur ndaj I...    None\n",
      "3   it  RT @ESPNFC: Cristiano Ronaldo 1-0 Lionel Messi...    None\n",
      "4   en  RT @Dan_Turner_93: It's a good job Ronaldo's n...    None\n",
      "5   es  RT @Argentina: 🎙 Lionel #Messi: \"Nos costó cre...    None\n",
      "6   en  @HoopsReference @johanbakerr Stick to basketba...    None\n",
      "7   en  RT @RMadridInfo: Cheryshev: “I’m not the sligh...    None\n",
      "8   en  RT @Tobiloba_: People that always think Portug...    None\n",
      "9   en                               #messi For Argentina    None\n"
     ]
    }
   ],
   "source": [
    "tweets = pd.DataFrame()\n",
    "\n",
    "tweets['lang'] = ''\n",
    "tweets['text'] = ''\n",
    "tweets['country'] = ''\n",
    "for tweet in tweets_data:\n",
    "    if 'lang' in tweet:\n",
    "        tweets.loc[len(tweets)] = [tweet['lang'],\n",
    "                               tweet['text'],\n",
    "                               tweet['place']['country'] if tweet['place'] != None else None]\n",
    "    \n",
    "print(tweets.head(10))"
   ]
  },
  {
   "cell_type": "code",
   "execution_count": 55,
   "metadata": {},
   "outputs": [
    {
     "data": {
      "text/plain": [
       "<matplotlib.axes._subplots.AxesSubplot at 0xae62710>"
      ]
     },
     "execution_count": 55,
     "metadata": {},
     "output_type": "execute_result"
    },
    {
     "data": {
      "image/png": "[encoded data removed]",
      "text/plain": [
       "<Figure size 432x288 with 1 Axes>"
      ]
     },
     "metadata": {},
     "output_type": "display_data"
    }
   ],
   "source": [
    "tweets_by_lang = tweets['lang'].value_counts()\n",
    "\n",
    "fig, ax = plt.subplots()\n",
    "ax.tick_params(axis='x', labelsize=15)\n",
    "ax.tick_params(axis='y', labelsize=10)\n",
    "ax.set_xlabel('Languages', fontsize=15)\n",
    "ax.set_ylabel('Number of tweets' , fontsize=15)\n",
    "ax.set_title('Top 5 languages', fontsize=15, fontweight='bold')\n",
    "tweets_by_lang[:5].plot(ax=ax, kind='bar', color='red')"
   ]
  },
  {
   "cell_type": "code",
   "execution_count": 56,
   "metadata": {},
   "outputs": [
    {
     "data": {
      "text/plain": [
       "<matplotlib.axes._subplots.AxesSubplot at 0xaef54e0>"
      ]
     },
     "execution_count": 56,
     "metadata": {},
     "output_type": "execute_result"
    },
    {
     "data": {
      "image/png": "[encoded data removed]",
      "text/plain": [
       "<Figure size 432x288 with 1 Axes>"
      ]
     },
     "metadata": {},
     "output_type": "display_data"
    }
   ],
   "source": [
    "tweets_by_country = tweets['country'].value_counts()\n",
    "\n",
    "fig, ax = plt.subplots()\n",
    "ax.tick_params(axis='x', labelsize=15)\n",
    "ax.tick_params(axis='y', labelsize=10)\n",
    "ax.set_xlabel('Countries', fontsize=15)\n",
    "ax.set_ylabel('Number of tweets' , fontsize=15)\n",
    "ax.set_title('Top 5 countries', fontsize=15, fontweight='bold')\n",
    "tweets_by_country[:5].plot(ax=ax, kind='bar', color='blue')"
   ]
  },
  {
   "cell_type": "code",
   "execution_count": 57,
   "metadata": {},
   "outputs": [],
   "source": [
    "import re\n",
    "def word_in_text(word, text):\n",
    "    word = word.lower()\n",
    "    text = text.lower()\n",
    "    match = re.search(word, text)\n",
    "    if match:\n",
    "        return True\n",
    "    return False"
   ]
  },
  {
   "cell_type": "code",
   "execution_count": 58,
   "metadata": {},
   "outputs": [
    {
     "data": {
      "text/html": [
       "<div>\n",
       "<style scoped>\n",
       "    .dataframe tbody tr th:only-of-type {\n",
       "        vertical-align: middle;\n",
       "    }\n",
       "\n",
       "    .dataframe tbody tr th {\n",
       "        vertical-align: top;\n",
       "    }\n",
       "\n",
       "    .dataframe thead th {\n",
       "        text-align: right;\n",
       "    }\n",
       "</style>\n",
       "<table border=\"1\" class=\"dataframe\">\n",
       "  <thead>\n",
       "    <tr style=\"text-align: right;\">\n",
       "      <th></th>\n",
       "      <th>lang</th>\n",
       "      <th>text</th>\n",
       "      <th>country</th>\n",
       "      <th>player</th>\n",
       "    </tr>\n",
       "  </thead>\n",
       "  <tbody>\n",
       "    <tr>\n",
       "      <th>0</th>\n",
       "      <td>und</td>\n",
       "      <td>RT @EduAguirre7: 😂😂😂😂😭😭😭😭😭😂😂😂😂😂😂😂😂😂😂😂😂😂😂😂 http...</td>\n",
       "      <td>None</td>\n",
       "      <td>None</td>\n",
       "    </tr>\n",
       "    <tr>\n",
       "      <th>1</th>\n",
       "      <td>pt</td>\n",
       "      <td>RT @brunomessigoku: Messi foi o jogador que ma...</td>\n",
       "      <td>None</td>\n",
       "      <td>messi</td>\n",
       "    </tr>\n",
       "    <tr>\n",
       "      <th>2</th>\n",
       "      <td>et</td>\n",
       "      <td>Leo Messi flet pas penalltisë së humbur ndaj I...</td>\n",
       "      <td>None</td>\n",
       "      <td>messi</td>\n",
       "    </tr>\n",
       "    <tr>\n",
       "      <th>3</th>\n",
       "      <td>it</td>\n",
       "      <td>RT @ESPNFC: Cristiano Ronaldo 1-0 Lionel Messi...</td>\n",
       "      <td>None</td>\n",
       "      <td>messi</td>\n",
       "    </tr>\n",
       "    <tr>\n",
       "      <th>4</th>\n",
       "      <td>en</td>\n",
       "      <td>RT @Dan_Turner_93: It's a good job Ronaldo's n...</td>\n",
       "      <td>None</td>\n",
       "      <td>messi</td>\n",
       "    </tr>\n",
       "    <tr>\n",
       "      <th>5</th>\n",
       "      <td>es</td>\n",
       "      <td>RT @Argentina: 🎙 Lionel #Messi: \"Nos costó cre...</td>\n",
       "      <td>None</td>\n",
       "      <td>messi</td>\n",
       "    </tr>\n",
       "    <tr>\n",
       "      <th>6</th>\n",
       "      <td>en</td>\n",
       "      <td>@HoopsReference @johanbakerr Stick to basketba...</td>\n",
       "      <td>None</td>\n",
       "      <td>ronaldo</td>\n",
       "    </tr>\n",
       "    <tr>\n",
       "      <th>7</th>\n",
       "      <td>en</td>\n",
       "      <td>RT @RMadridInfo: Cheryshev: “I’m not the sligh...</td>\n",
       "      <td>None</td>\n",
       "      <td>ronaldo</td>\n",
       "    </tr>\n",
       "    <tr>\n",
       "      <th>8</th>\n",
       "      <td>en</td>\n",
       "      <td>RT @Tobiloba_: People that always think Portug...</td>\n",
       "      <td>None</td>\n",
       "      <td>None</td>\n",
       "    </tr>\n",
       "    <tr>\n",
       "      <th>9</th>\n",
       "      <td>en</td>\n",
       "      <td>#messi For Argentina</td>\n",
       "      <td>None</td>\n",
       "      <td>messi</td>\n",
       "    </tr>\n",
       "    <tr>\n",
       "      <th>10</th>\n",
       "      <td>fr</td>\n",
       "      <td>RT @MoonsKhoudri: Cher Ronaldo, comment tu fai...</td>\n",
       "      <td>None</td>\n",
       "      <td>ronaldo</td>\n",
       "    </tr>\n",
       "    <tr>\n",
       "      <th>11</th>\n",
       "      <td>it</td>\n",
       "      <td>RT @ESPNFC: Cristiano Ronaldo 1-0 Lionel Messi...</td>\n",
       "      <td>None</td>\n",
       "      <td>messi</td>\n",
       "    </tr>\n",
       "    <tr>\n",
       "      <th>12</th>\n",
       "      <td>es</td>\n",
       "      <td>RT @Juezcentral: El curriculum de Halldórsson,...</td>\n",
       "      <td>None</td>\n",
       "      <td>None</td>\n",
       "    </tr>\n",
       "    <tr>\n",
       "      <th>13</th>\n",
       "      <td>fr</td>\n",
       "      <td>RT @Kadja_302: Cest lala il va loupé penalty h...</td>\n",
       "      <td>None</td>\n",
       "      <td>messi</td>\n",
       "    </tr>\n",
       "    <tr>\n",
       "      <th>14</th>\n",
       "      <td>en</td>\n",
       "      <td>@justcalladi Very uncharacteristic miss from m...</td>\n",
       "      <td>None</td>\n",
       "      <td>messi</td>\n",
       "    </tr>\n",
       "    <tr>\n",
       "      <th>15</th>\n",
       "      <td>fr</td>\n",
       "      <td>RT @Footballogue: [#CM2018] Le résumé en image...</td>\n",
       "      <td>None</td>\n",
       "      <td>messi</td>\n",
       "    </tr>\n",
       "    <tr>\n",
       "      <th>16</th>\n",
       "      <td>es</td>\n",
       "      <td>RT @juanittinelliok: Realmente no entiendo com...</td>\n",
       "      <td>None</td>\n",
       "      <td>messi</td>\n",
       "    </tr>\n",
       "    <tr>\n",
       "      <th>17</th>\n",
       "      <td>en</td>\n",
       "      <td>RT @Phunky__: France 🇫🇷 has Griezmann\\nArgenti...</td>\n",
       "      <td>None</td>\n",
       "      <td>neymar</td>\n",
       "    </tr>\n",
       "    <tr>\n",
       "      <th>18</th>\n",
       "      <td>und</td>\n",
       "      <td>RT @WeAreMessi: #ARG #WorldCup #WeAreMessi #So...</td>\n",
       "      <td>None</td>\n",
       "      <td>messi</td>\n",
       "    </tr>\n",
       "    <tr>\n",
       "      <th>19</th>\n",
       "      <td>en</td>\n",
       "      <td>Iceland's hero keeper did homework to psych ou...</td>\n",
       "      <td>None</td>\n",
       "      <td>messi</td>\n",
       "    </tr>\n",
       "  </tbody>\n",
       "</table>\n",
       "</div>"
      ],
      "text/plain": [
       "   lang                                               text country   player\n",
       "0   und  RT @EduAguirre7: 😂😂😂😂😭😭😭😭😭😂😂😂😂😂😂😂😂😂😂😂😂😂😂😂 http...    None     None\n",
       "1    pt  RT @brunomessigoku: Messi foi o jogador que ma...    None    messi\n",
       "2    et  Leo Messi flet pas penalltisë së humbur ndaj I...    None    messi\n",
       "3    it  RT @ESPNFC: Cristiano Ronaldo 1-0 Lionel Messi...    None    messi\n",
       "4    en  RT @Dan_Turner_93: It's a good job Ronaldo's n...    None    messi\n",
       "5    es  RT @Argentina: 🎙 Lionel #Messi: \"Nos costó cre...    None    messi\n",
       "6    en  @HoopsReference @johanbakerr Stick to basketba...    None  ronaldo\n",
       "7    en  RT @RMadridInfo: Cheryshev: “I’m not the sligh...    None  ronaldo\n",
       "8    en  RT @Tobiloba_: People that always think Portug...    None     None\n",
       "9    en                               #messi For Argentina    None    messi\n",
       "10   fr  RT @MoonsKhoudri: Cher Ronaldo, comment tu fai...    None  ronaldo\n",
       "11   it  RT @ESPNFC: Cristiano Ronaldo 1-0 Lionel Messi...    None    messi\n",
       "12   es  RT @Juezcentral: El curriculum de Halldórsson,...    None     None\n",
       "13   fr  RT @Kadja_302: Cest lala il va loupé penalty h...    None    messi\n",
       "14   en  @justcalladi Very uncharacteristic miss from m...    None    messi\n",
       "15   fr  RT @Footballogue: [#CM2018] Le résumé en image...    None    messi\n",
       "16   es  RT @juanittinelliok: Realmente no entiendo com...    None    messi\n",
       "17   en  RT @Phunky__: France 🇫🇷 has Griezmann\\nArgenti...    None   neymar\n",
       "18  und  RT @WeAreMessi: #ARG #WorldCup #WeAreMessi #So...    None    messi\n",
       "19   en  Iceland's hero keeper did homework to psych ou...    None    messi"
      ]
     },
     "execution_count": 58,
     "metadata": {},
     "output_type": "execute_result"
    }
   ],
   "source": [
    "## filtrando aqueles q mais foram falados (termos mais influentes)\n",
    "players = []\n",
    "for tweet in tweets_data:\n",
    "    if 'text' in tweet:\n",
    "        if word_in_text('neymar', tweet['text']):\n",
    "            players.append('neymar')\n",
    "        elif word_in_text('messi', tweet['text']):\n",
    "            players.append('messi')\n",
    "        elif word_in_text('ronaldo', tweet['text']):\n",
    "            players.append('ronaldo')\n",
    "        elif word_in_text('sallah', tweet['text']):\n",
    "            players.append('sallah')\n",
    "        elif word_in_text('hazard', tweet['text']):\n",
    "            players.append('hazard')\n",
    "        else:\n",
    "            players.append('None')\n",
    "tweets['player'] = players\n",
    "tweets.head(20)"
   ]
  },
  {
   "cell_type": "code",
   "execution_count": 59,
   "metadata": {},
   "outputs": [
    {
     "data": {
      "text/plain": [
       "<matplotlib.axes._subplots.AxesSubplot at 0xaf947f0>"
      ]
     },
     "execution_count": 59,
     "metadata": {},
     "output_type": "execute_result"
    },
    {
     "data": {
      "image/png": "[encoded data removed]",
      "text/plain": [
       "<Figure size 432x288 with 1 Axes>"
      ]
     },
     "metadata": {},
     "output_type": "display_data"
    }
   ],
   "source": [
    "tweets_by_player = tweets['player'].value_counts()\n",
    "\n",
    "fig, ax = plt.subplots()\n",
    "ax.tick_params(axis='x', labelsize=15)\n",
    "ax.tick_params(axis='y', labelsize=10)\n",
    "ax.set_xlabel('Players', fontsize=15)\n",
    "ax.set_ylabel('Number of tweets' , fontsize=15)\n",
    "ax.set_title('Top 5 players', fontsize=15, fontweight='bold')\n",
    "tweets_by_player[:6].plot(ax=ax, kind='bar', color='green')"
   ]
  },
  {
   "cell_type": "code",
   "execution_count": null,
   "metadata": {},
   "outputs": [],
   "source": []
  }
 ],
 "metadata": {
  "kernelspec": {
   "display_name": "Python 3",
   "language": "python",
   "name": "python3"
  },
  "language_info": {
   "codemirror_mode": {
    "name": "ipython",
    "version": 3
   },
   "file_extension": ".py",
   "mimetype": "text/x-python",
   "name": "python",
   "nbconvert_exporter": "python",
   "pygments_lexer": "ipython3",
   "version": "3.6.5"
  }
 },
 "nbformat": 4,
 "nbformat_minor": 2
}
